{
 "cells": [
  {
   "cell_type": "markdown",
   "metadata": {},
   "source": [
    "# Feature Analysis #\n",
    "\n",
    "This notebook displays plots of each feature, in order to drive decision-making about Machine Learning problem approach.  \n",
    "\n"
   ]
  },
  {
   "cell_type": "code",
   "execution_count": 3,
   "metadata": {},
   "outputs": [],
   "source": [
    "#import libaries\n",
    "import matplotlib.pyplot as plt\n",
    "import seaborn as sns\n",
    "import pandas as pd\n",
    "import numpy as np"
   ]
  },
  {
   "cell_type": "markdown",
   "metadata": {},
   "source": [
    "**This is a list of all features in the dataset:**"
   ]
  },
  {
   "cell_type": "code",
   "execution_count": 4,
   "metadata": {},
   "outputs": [
    {
     "name": "stdout",
     "output_type": "stream",
     "text": [
      "<class 'pandas.core.frame.DataFrame'>\n",
      "RangeIndex: 303 entries, 0 to 302\n",
      "Data columns (total 14 columns):\n",
      " #   Column    Non-Null Count  Dtype  \n",
      "---  ------    --------------  -----  \n",
      " 0   age       303 non-null    int64  \n",
      " 1   sex       303 non-null    int64  \n",
      " 2   cp        303 non-null    int64  \n",
      " 3   trestbps  303 non-null    int64  \n",
      " 4   chol      303 non-null    int64  \n",
      " 5   fbs       303 non-null    int64  \n",
      " 6   restecg   303 non-null    int64  \n",
      " 7   thalach   303 non-null    int64  \n",
      " 8   exang     303 non-null    int64  \n",
      " 9   oldpeak   303 non-null    float64\n",
      " 10  slope     303 non-null    int64  \n",
      " 11  ca        303 non-null    int64  \n",
      " 12  thal      303 non-null    int64  \n",
      " 13  target    303 non-null    int64  \n",
      "dtypes: float64(1), int64(13)\n",
      "memory usage: 33.3 KB\n"
     ]
    }
   ],
   "source": [
    "heart_data = pd.read_csv(\"data/heart.csv\")\n",
    "heart_data.info()"
   ]
  },
  {
   "cell_type": "markdown",
   "metadata": {},
   "source": [
    "**Visualize the Age Feature**\n",
    "\n",
    "\n",
    "![Age_Distribution](images\\AgeDistr.png)       ![Age_Percents](images\\AgePercents.png)\n"
   ]
  },
  {
   "cell_type": "markdown",
   "metadata": {},
   "source": []
  },
  {
   "cell_type": "markdown",
   "metadata": {},
   "source": [
    "**Visualize the Gender Feature**\n",
    "\n",
    "0 = female, 1 = male\n",
    "\n",
    "![Gender_Distribution](images\\GenderDistr.png)       "
   ]
  },
  {
   "cell_type": "markdown",
   "metadata": {},
   "source": []
  },
  {
   "cell_type": "markdown",
   "metadata": {},
   "source": [
    "**Visualize the Chest Pain Feature**\n",
    "\n",
    "0. no chest pain\n",
    "1. typical angina\n",
    "2. atypical angina\n",
    "3. non-anginal pain\n",
    "4. asymptotic\n",
    "\n",
    "![ChestPain_Distribution](images\\ChestPainDistr.png)         ![ChestPain_Percents](images\\ChestPainType.png)      "
   ]
  },
  {
   "cell_type": "markdown",
   "metadata": {},
   "source": []
  },
  {
   "cell_type": "markdown",
   "metadata": {},
   "source": [
    "**Visualize the Resting Blood Pressure Feature**\n",
    "\n",
    "| Top number (systolic) in mm HG   | Category |\n",
    "| --- | --- |              \n",
    "| Below 120     | Normal blood pressure                       |\n",
    "| 120-129       | Elevated blood pressure                     |\n",
    "| 130-139       | Stage 1 high blood pressure (hypertension)  |\n",
    "| 140 or higher | Stage 2 high blood pressure (hypertension)  |\n",
    "\n",
    "![BP_Distribution](images\\BPDistr.png)         ![BP_Percents](images\\BloodPressureCategory.png)      "
   ]
  },
  {
   "cell_type": "markdown",
   "metadata": {},
   "source": []
  },
  {
   "cell_type": "markdown",
   "metadata": {},
   "source": [
    "**Visualize the Cholestoral Feature**\n",
    "\n",
    "| category | serum cholestrol level |\n",
    "| --- | --- | \n",
    "| Healthy | less than 200 mg/dL |\n",
    "| Borderline high | 200-239 mg/dL |\n",
    "| High | 240 mg/dL and above |\n",
    "\n",
    "![Chol_Distribution](images\\CholDistr.png)         ![Chol_Percents](images\\CholestrolLevel.png)      "
   ]
  },
  {
   "cell_type": "markdown",
   "metadata": {},
   "source": []
  },
  {
   "cell_type": "markdown",
   "metadata": {},
   "source": [
    "**Visualize the Blood Sugar Feature**\n",
    "\n",
    "1 (true) - fasting blood sugar is greater than 120mg/dl (prediabetes / diabetes)\n",
    "\n",
    "0 (false) - fasting blood sugar is less than 120mg/dl (normal / prediabetes)\n",
    "\n",
    "![BloodSugar_Distribution](images\\BloodSugarDistr.png)       "
   ]
  },
  {
   "cell_type": "markdown",
   "metadata": {},
   "source": []
  },
  {
   "cell_type": "markdown",
   "metadata": {},
   "source": [
    "**Visualize the ECG Feature**\n",
    "\n",
    "0 = normal\n",
    "\n",
    "1 = having ST-T wave abnormality (nonspecific findings found on an EKG which may represent areas of low blood flow to the heart)\n",
    "\n",
    "2 = left ventricular hyperthrophy (normally caused by high blood pressure and also the enlargement of the ventricle)\n",
    "\n",
    "![ECG_Distribution](images\\ECGDistr.png)         ![ECG_Percents](images\\RestingECG.png)      "
   ]
  },
  {
   "cell_type": "markdown",
   "metadata": {},
   "source": []
  },
  {
   "cell_type": "markdown",
   "metadata": {},
   "source": [
    "**Visualize the Maximum Heart Rate and Exercise Induced Angina Features**\n",
    "\n",
    "*Heart Rate (left)*\n",
    "\n",
    "220 - Your Age = Predicted Maximum Heart Rate.\n",
    "\n",
    "*Angina (right)*\n",
    "\n",
    "1 = yes; 0 = no\n",
    "\n",
    "![MaxHeartRate_Distribution](images\\MaxHRDistr.png)         ![ExerciseAngina_Distribution](images\\ExerAngDistr.png)          "
   ]
  },
  {
   "cell_type": "markdown",
   "metadata": {},
   "source": []
  },
  {
   "cell_type": "markdown",
   "metadata": {},
   "source": [
    "**Visualize the Old Peak (ST Depression) Feature**\n",
    "\n",
    "0 - 1mm: not significant\n",
    "\n",
    "1 - 1.5mm: significant in V5 - V6\n",
    "\n",
    "1.5 - 2mm: significant in AVF or III\n",
    "\n",
    "2mm or more: reversible ischaemia (in exercise stress test)\n",
    "\n",
    "\n",
    "\n",
    "![STDepression_Distribution](images\\STDeprDistr.png)         ![STDepression_Percents](images\\STDepression.png)      "
   ]
  },
  {
   "cell_type": "markdown",
   "metadata": {},
   "source": []
  },
  {
   "cell_type": "markdown",
   "metadata": {},
   "source": [
    "**Visualize the Slope Feature**\n",
    "\n",
    "0: upsloping\n",
    "\n",
    "1: flat\n",
    "\n",
    "2: downsloping\n",
    "\n",
    "\"flat\" is a healthy slope\n",
    "\n",
    "\n",
    "![Slope_Distribution](images\\SlopeDistr.png)         ![Slope_Percents](images\\Slope.png)      "
   ]
  },
  {
   "cell_type": "code",
   "execution_count": null,
   "metadata": {},
   "outputs": [],
   "source": []
  },
  {
   "cell_type": "markdown",
   "metadata": {},
   "source": [
    "**Visualize the CA Feature**\n",
    "\n",
    "CA refers to the number of major vessels (0-3) colored by fluorosopy\n",
    "\n",
    "The documentation suggests the data will show values from 0 - 3.  \n",
    "\n",
    "But values from 0 - 4 are present. It is unclear what this means or the positivity/negativity of each value.\n",
    "\n",
    "I wonder if 0 actually means the patient didn't have a this test, because a majority of the patients have this value.\n",
    "\n",
    "It doesn't make sense that the test showed no major vessels...but perhaps this will be explained more in the correlational studies later in this project.\n",
    "\n",
    "\n",
    "![CA_Distribution](images\\CADistr.png)         ![CA_Percents](images\\CA.png)          "
   ]
  },
  {
   "cell_type": "code",
   "execution_count": null,
   "metadata": {},
   "outputs": [],
   "source": []
  }
 ],
 "metadata": {
  "kernelspec": {
   "display_name": "Python 3",
   "language": "python",
   "name": "python3"
  },
  "language_info": {
   "codemirror_mode": {
    "name": "ipython",
    "version": 3
   },
   "file_extension": ".py",
   "mimetype": "text/x-python",
   "name": "python",
   "nbconvert_exporter": "python",
   "pygments_lexer": "ipython3",
   "version": "3.7.8"
  }
 },
 "nbformat": 4,
 "nbformat_minor": 4
}
