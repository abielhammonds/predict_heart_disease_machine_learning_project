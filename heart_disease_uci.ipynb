{
 "cells": [
  {
   "cell_type": "code",
   "execution_count": null,
   "metadata": {},
   "outputs": [],
   "source": [
    "#Reminders\n",
    "add data to gitignore file"
   ]
  },
  {
   "cell_type": "markdown",
   "metadata": {},
   "source": [
    "## Set up steps"
   ]
  },
  {
   "cell_type": "markdown",
   "metadata": {},
   "source": [
    "#### Import relevant Python libraries"
   ]
  },
  {
   "cell_type": "code",
   "execution_count": 1,
   "metadata": {},
   "outputs": [],
   "source": [
    "#import libaries\n",
    "import matplotlib.pyplot as plt\n",
    "import seaborn as sns\n",
    "import pandas as pd\n",
    "import numpy as np"
   ]
  },
  {
   "cell_type": "markdown",
   "metadata": {},
   "source": [
    "#### Import heart data into a dataframe"
   ]
  },
  {
   "cell_type": "code",
   "execution_count": 2,
   "metadata": {},
   "outputs": [],
   "source": [
    "heart_data = pd.read_csv(\"data/heart.csv\")"
   ]
  },
  {
   "cell_type": "markdown",
   "metadata": {},
   "source": [
    "## Examine the Data"
   ]
  },
  {
   "cell_type": "markdown",
   "metadata": {},
   "source": [
    "#### Preview the data and get basic information"
   ]
  },
  {
   "cell_type": "markdown",
   "metadata": {},
   "source": [
    "**[Some background facts about heart disease:](https://towardsdatascience.com/heart-disease-prediction-73468d630cfc)**\n",
    "\n",
    "It is difficult to identify heart disease because of several contributory risk factors.\n",
    "\n",
    "Those factors include diabetes, high blood pressure, high cholesterol, abnormal pulse rate, and many other factors."
   ]
  },
  {
   "cell_type": "code",
   "execution_count": 3,
   "metadata": {},
   "outputs": [
    {
     "data": {
      "text/html": [
       "<div>\n",
       "<style scoped>\n",
       "    .dataframe tbody tr th:only-of-type {\n",
       "        vertical-align: middle;\n",
       "    }\n",
       "\n",
       "    .dataframe tbody tr th {\n",
       "        vertical-align: top;\n",
       "    }\n",
       "\n",
       "    .dataframe thead th {\n",
       "        text-align: right;\n",
       "    }\n",
       "</style>\n",
       "<table border=\"1\" class=\"dataframe\">\n",
       "  <thead>\n",
       "    <tr style=\"text-align: right;\">\n",
       "      <th></th>\n",
       "      <th>age</th>\n",
       "      <th>sex</th>\n",
       "      <th>cp</th>\n",
       "      <th>trestbps</th>\n",
       "      <th>chol</th>\n",
       "      <th>fbs</th>\n",
       "      <th>restecg</th>\n",
       "      <th>thalach</th>\n",
       "      <th>exang</th>\n",
       "      <th>oldpeak</th>\n",
       "      <th>slope</th>\n",
       "      <th>ca</th>\n",
       "      <th>thal</th>\n",
       "      <th>target</th>\n",
       "    </tr>\n",
       "  </thead>\n",
       "  <tbody>\n",
       "    <tr>\n",
       "      <th>0</th>\n",
       "      <td>63</td>\n",
       "      <td>1</td>\n",
       "      <td>3</td>\n",
       "      <td>145</td>\n",
       "      <td>233</td>\n",
       "      <td>1</td>\n",
       "      <td>0</td>\n",
       "      <td>150</td>\n",
       "      <td>0</td>\n",
       "      <td>2.3</td>\n",
       "      <td>0</td>\n",
       "      <td>0</td>\n",
       "      <td>1</td>\n",
       "      <td>1</td>\n",
       "    </tr>\n",
       "    <tr>\n",
       "      <th>1</th>\n",
       "      <td>37</td>\n",
       "      <td>1</td>\n",
       "      <td>2</td>\n",
       "      <td>130</td>\n",
       "      <td>250</td>\n",
       "      <td>0</td>\n",
       "      <td>1</td>\n",
       "      <td>187</td>\n",
       "      <td>0</td>\n",
       "      <td>3.5</td>\n",
       "      <td>0</td>\n",
       "      <td>0</td>\n",
       "      <td>2</td>\n",
       "      <td>1</td>\n",
       "    </tr>\n",
       "    <tr>\n",
       "      <th>2</th>\n",
       "      <td>41</td>\n",
       "      <td>0</td>\n",
       "      <td>1</td>\n",
       "      <td>130</td>\n",
       "      <td>204</td>\n",
       "      <td>0</td>\n",
       "      <td>0</td>\n",
       "      <td>172</td>\n",
       "      <td>0</td>\n",
       "      <td>1.4</td>\n",
       "      <td>2</td>\n",
       "      <td>0</td>\n",
       "      <td>2</td>\n",
       "      <td>1</td>\n",
       "    </tr>\n",
       "    <tr>\n",
       "      <th>3</th>\n",
       "      <td>56</td>\n",
       "      <td>1</td>\n",
       "      <td>1</td>\n",
       "      <td>120</td>\n",
       "      <td>236</td>\n",
       "      <td>0</td>\n",
       "      <td>1</td>\n",
       "      <td>178</td>\n",
       "      <td>0</td>\n",
       "      <td>0.8</td>\n",
       "      <td>2</td>\n",
       "      <td>0</td>\n",
       "      <td>2</td>\n",
       "      <td>1</td>\n",
       "    </tr>\n",
       "    <tr>\n",
       "      <th>4</th>\n",
       "      <td>57</td>\n",
       "      <td>0</td>\n",
       "      <td>0</td>\n",
       "      <td>120</td>\n",
       "      <td>354</td>\n",
       "      <td>0</td>\n",
       "      <td>1</td>\n",
       "      <td>163</td>\n",
       "      <td>1</td>\n",
       "      <td>0.6</td>\n",
       "      <td>2</td>\n",
       "      <td>0</td>\n",
       "      <td>2</td>\n",
       "      <td>1</td>\n",
       "    </tr>\n",
       "  </tbody>\n",
       "</table>\n",
       "</div>"
      ],
      "text/plain": [
       "   age  sex  cp  trestbps  chol  fbs  restecg  thalach  exang  oldpeak  slope  \\\n",
       "0   63    1   3       145   233    1        0      150      0      2.3      0   \n",
       "1   37    1   2       130   250    0        1      187      0      3.5      0   \n",
       "2   41    0   1       130   204    0        0      172      0      1.4      2   \n",
       "3   56    1   1       120   236    0        1      178      0      0.8      2   \n",
       "4   57    0   0       120   354    0        1      163      1      0.6      2   \n",
       "\n",
       "   ca  thal  target  \n",
       "0   0     1       1  \n",
       "1   0     2       1  \n",
       "2   0     2       1  \n",
       "3   0     2       1  \n",
       "4   0     2       1  "
      ]
     },
     "execution_count": 3,
     "metadata": {},
     "output_type": "execute_result"
    }
   ],
   "source": [
    "heart_data.head()"
   ]
  },
  {
   "cell_type": "code",
   "execution_count": 4,
   "metadata": {},
   "outputs": [
    {
     "name": "stdout",
     "output_type": "stream",
     "text": [
      "<class 'pandas.core.frame.DataFrame'>\n",
      "RangeIndex: 303 entries, 0 to 302\n",
      "Data columns (total 14 columns):\n",
      " #   Column    Non-Null Count  Dtype  \n",
      "---  ------    --------------  -----  \n",
      " 0   age       303 non-null    int64  \n",
      " 1   sex       303 non-null    int64  \n",
      " 2   cp        303 non-null    int64  \n",
      " 3   trestbps  303 non-null    int64  \n",
      " 4   chol      303 non-null    int64  \n",
      " 5   fbs       303 non-null    int64  \n",
      " 6   restecg   303 non-null    int64  \n",
      " 7   thalach   303 non-null    int64  \n",
      " 8   exang     303 non-null    int64  \n",
      " 9   oldpeak   303 non-null    float64\n",
      " 10  slope     303 non-null    int64  \n",
      " 11  ca        303 non-null    int64  \n",
      " 12  thal      303 non-null    int64  \n",
      " 13  target    303 non-null    int64  \n",
      "dtypes: float64(1), int64(13)\n",
      "memory usage: 33.3 KB\n"
     ]
    }
   ],
   "source": [
    "heart_data.info()\n",
    "#this dataset has 33 rows and 14 columns, most values are integer data types and the remaining is float values"
   ]
  },
  {
   "cell_type": "markdown",
   "metadata": {},
   "source": [
    "#### Search for missing values"
   ]
  },
  {
   "cell_type": "code",
   "execution_count": 5,
   "metadata": {},
   "outputs": [
    {
     "data": {
      "text/plain": [
       "age         0\n",
       "sex         0\n",
       "cp          0\n",
       "trestbps    0\n",
       "chol        0\n",
       "fbs         0\n",
       "restecg     0\n",
       "thalach     0\n",
       "exang       0\n",
       "oldpeak     0\n",
       "slope       0\n",
       "ca          0\n",
       "thal        0\n",
       "target      0\n",
       "dtype: int64"
      ]
     },
     "execution_count": 5,
     "metadata": {},
     "output_type": "execute_result"
    }
   ],
   "source": [
    "missing_values_count = heart_data.isnull().sum()\n",
    "missing_values_count\n",
    "#There are no missing values in any of the columns"
   ]
  },
  {
   "cell_type": "markdown",
   "metadata": {},
   "source": [
    "#### Search for inconsistency in the way the data is entered and view the distribution ####\n",
    "\n",
    "Key questions:\n",
    "\n",
    "1. Is the data within each column entered consistently?  \n",
    "2. How is the data in each column distributed? (plot the data)\n",
    "\n",
    "For each variable, the following steps are taken:\n",
    "1. list relevant interesting facts, often with a link to more information\n",
    "2. list the range of values using the .unique() method\n",
    "3. plot the distribution of values with a Seaborn histogram\n",
    "4. if needed, sort the values to identify the high/low values using the .sort_values() method\n",
    "5. if needed, assign the values to a meaningful category (ex: healthy vs. high blood pressure) using the binning method\n",
    "6. if needed, calculate the percentage of values in each category and plot the percents using a Matplot Lib pie chart"
   ]
  },
  {
   "cell_type": "markdown",
   "metadata": {},
   "source": [
    "<u>**Age**</u>"
   ]
  },
  {
   "cell_type": "markdown",
   "metadata": {},
   "source": [
    "**Some interesting facts about the age variable:**\n",
    "\n",
    "Age is the most important risk factor in developing cardiovascular or heart diseases.\n",
    "\n",
    "Coronary fatty streaks can begin to form in adolescence and heart disease risk triples with each decade of life. \n",
    "\n",
    "It is estimated that 82 percent of people who die of coronary heart disease are 65 and older. \n",
    "\n",
    "Simultaneously, the risk of stroke doubles every decade after age 55."
   ]
  },
  {
   "cell_type": "code",
   "execution_count": 11,
   "metadata": {},
   "outputs": [
    {
     "data": {
      "text/plain": [
       "array([63, 37, 41, 56, 57, 44, 52, 54, 48, 49, 64, 58, 50, 66, 43, 69, 59,\n",
       "       42, 61, 40, 71, 51, 65, 53, 46, 45, 39, 47, 62, 34, 35, 29, 55, 60,\n",
       "       67, 68, 74, 76, 70, 38, 77], dtype=int64)"
      ]
     },
     "execution_count": 11,
     "metadata": {},
     "output_type": "execute_result"
    }
   ],
   "source": [
    "#identify what ages are in the dataset\n",
    "age = heart_data['age'].unique()\n",
    "age"
   ]
  },
  {
   "cell_type": "code",
   "execution_count": 7,
   "metadata": {},
   "outputs": [
    {
     "data": {
      "text/plain": [
       "<AxesSubplot:xlabel='age', ylabel='Count'>"
      ]
     },
     "execution_count": 7,
     "metadata": {},
     "output_type": "execute_result"
    },
    {
     "data": {
      "image/png": "[encoded data removed]",
      "text/plain": [
       "<Figure size 432x288 with 1 Axes>"
      ]
     },
     "metadata": {
      "needs_background": "light"
     },
     "output_type": "display_data"
    }
   ],
   "source": [
    "#plot the distribution\n",
    "sns.histplot(data=heart_data, x=\"age\")"
   ]
  },
  {
   "cell_type": "code",
   "execution_count": 12,
   "metadata": {},
   "outputs": [
    {
     "data": {
      "text/plain": [
       "72     29\n",
       "58     34\n",
       "125    34\n",
       "239    35\n",
       "65     35\n",
       "       ..\n",
       "60     71\n",
       "151    71\n",
       "129    74\n",
       "144    76\n",
       "238    77\n",
       "Name: age, Length: 303, dtype: int64"
      ]
     },
     "execution_count": 12,
     "metadata": {},
     "output_type": "execute_result"
    }
   ],
   "source": [
    "#sort the data to identify the min and max age\n",
    "heart_data[\"age\"].sort_values()"
   ]
  },
  {
   "cell_type": "markdown",
   "metadata": {},
   "source": [
    "**Question: What percentage of each age group are there in the dataset?**"
   ]
  },
  {
   "cell_type": "code",
   "execution_count": 13,
   "metadata": {},
   "outputs": [
    {
     "name": "stdout",
     "output_type": "stream",
     "text": [
      "age_group\n",
      "50s    129\n",
      "40s     76\n",
      "60s     73\n",
      "30s     18\n",
      "70s      6\n",
      "20s      1\n",
      "dtype: int64\n"
     ]
    },
    {
     "data": {
      "text/plain": [
       "age_group\n",
       "50s    42.574257\n",
       "40s    25.082508\n",
       "60s    24.092409\n",
       "30s     5.940594\n",
       "70s     1.980198\n",
       "20s     0.330033\n",
       "dtype: float64"
      ]
     },
     "execution_count": 13,
     "metadata": {},
     "output_type": "execute_result"
    }
   ],
   "source": [
    "# Bin the Age column\n",
    "age_bins = [20, 30, 40, 50, 60, 70, 80]\n",
    "age_labels = [\"20s\", \"30s\", \"40s\", \"50s\", \"60s\", \"70s\"]\n",
    "\n",
    "# cut() returns a Pandas Series containing each of the binned column's values translated into their corresponding bins\n",
    "#this series is appended onto the dataframe\n",
    "heart_data[\"age_group\"] = pd.cut(heart_data[\"age\"], age_bins, labels=age_labels)\n",
    "\n",
    "#count the number of patients in each age group\n",
    "print(heart_data.value_counts('age_group'))\n",
    "\n",
    "#calculate the percentage of patients in each age group\n",
    "age_percents = (heart_data.value_counts('age_group') / heart_data['age'].count()) * 100\n",
    "age_percents\n"
   ]
  },
  {
   "cell_type": "code",
   "execution_count": 31,
   "metadata": {},
   "outputs": [
    {
     "data": {
      "image/png": "[encoded data removed]",
      "text/plain": [
       "<Figure size 720x432 with 1 Axes>"
      ]
     },
     "metadata": {},
     "output_type": "display_data"
    }
   ],
   "source": [
    "#plot the age percentages using matplotlib (pie charts aren't available in Seaborn)\n",
    "pie, ax = plt.subplots(figsize=[10,6])\n",
    "labels = age_percents.keys()\n",
    "plt.pie(x=age_percents, autopct=\"%.1f%%\", explode=[0.05]*6, labels=labels, pctdistance=0.5)\n",
    "plt.title(\"Percentage of patients in each age group\", fontsize=14);\n",
    "pie.savefig(\"AgePercents.png\")"
   ]
  },
  {
   "cell_type": "markdown",
   "metadata": {},
   "source": [
    "<u>**Gender**</u> "
   ]
  },
  {
   "cell_type": "markdown",
   "metadata": {},
   "source": [
    "**Some interesting facts about the gender variable:**\n",
    "\n",
    "Men are at greater risk of heart disease than pre-menopausal women. \n",
    "\n",
    "Once past menopause, it has been argued that a woman’s risk is similar to a man’s although more recent data from the WHO and UN disputes this. \n",
    "\n",
    "If a woman has diabetes, she is more likely to develop heart disease than a man with diabetes."
   ]
  },
  {
   "cell_type": "code",
   "execution_count": 14,
   "metadata": {},
   "outputs": [
    {
     "data": {
      "text/plain": [
       "array([1, 0], dtype=int64)"
      ]
     },
     "execution_count": 14,
     "metadata": {},
     "output_type": "execute_result"
    }
   ],
   "source": [
    "#examine how gender is noted in the dataset\n",
    "gender = heart_data['sex'].unique()\n",
    "gender\n",
    "#dataset documentation explains that: 1 = male, 0 = female"
   ]
  },
  {
   "cell_type": "code",
   "execution_count": 15,
   "metadata": {},
   "outputs": [
    {
     "data": {
      "text/plain": [
       "<AxesSubplot:xlabel='sex', ylabel='Count'>"
      ]
     },
     "execution_count": 15,
     "metadata": {},
     "output_type": "execute_result"
    },
    {
     "data": {
      "image/png": "[encoded data removed]",
      "text/plain": [
       "<Figure size 432x288 with 1 Axes>"
      ]
     },
     "metadata": {
      "needs_background": "light"
     },
     "output_type": "display_data"
    }
   ],
   "source": [
    "#plot the distribution\n",
    "sns.histplot(data=heart_data, x=\"sex\")\n",
    "#there are twice as many men in this dataset than women"
   ]
  },
  {
   "cell_type": "markdown",
   "metadata": {},
   "source": [
    "<u>**Chest Pain**</u> "
   ]
  },
  {
   "cell_type": "markdown",
   "metadata": {},
   "source": [
    "In the dataset, chest pain type displays the type of chest-pain experienced by the individual using the following format:\n",
    "\n",
    "1. typical angina\n",
    "2. atypical angina\n",
    "3. non-anginal pain\n",
    "4. asymptotic"
   ]
  },
  {
   "cell_type": "code",
   "execution_count": 24,
   "metadata": {},
   "outputs": [
    {
     "data": {
      "text/plain": [
       "0    143\n",
       "2     87\n",
       "1     50\n",
       "3     23\n",
       "Name: cp, dtype: int64"
      ]
     },
     "execution_count": 24,
     "metadata": {},
     "output_type": "execute_result"
    }
   ],
   "source": [
    "#examine how chest pain is noted in the dataset\n",
    "chest_pain_type = heart_data['cp'].value_counts()\n",
    "chest_pain_type"
   ]
  },
  {
   "cell_type": "markdown",
   "metadata": {},
   "source": [
    "These values aren't making since because the documentation lists 1 - 4."
   ]
  },
  {
   "cell_type": "code",
   "execution_count": 27,
   "metadata": {},
   "outputs": [
    {
     "data": {
      "text/plain": [
       "151    0\n",
       "96     0\n",
       "97     0\n",
       "211    0\n",
       "209    0\n",
       "      ..\n",
       "117    3\n",
       "101    3\n",
       "259    3\n",
       "286    3\n",
       "0      3\n",
       "Name: cp, Length: 303, dtype: int64"
      ]
     },
     "execution_count": 27,
     "metadata": {},
     "output_type": "execute_result"
    }
   ],
   "source": [
    "#sort the data to examine it further\n",
    "heart_data[\"cp\"].sort_values()"
   ]
  },
  {
   "cell_type": "markdown",
   "metadata": {},
   "source": [
    "Internet research and reviewing [other developer's analysis](https://coderkian.com/week-3-exploratory-data-analysis-on-heart-disease-dataset-kaggle/) of this dataset reveals that a \"0\" value is interpreted as no chest pain.\n",
    "\n",
    "Therefore, this dataset is showing 143 patients with no chest pain and no patients who have the 4 -'asymptomatic' value."
   ]
  },
  {
   "cell_type": "code",
   "execution_count": 17,
   "metadata": {},
   "outputs": [
    {
     "data": {
      "text/plain": [
       "<AxesSubplot:xlabel='cp', ylabel='Count'>"
      ]
     },
     "execution_count": 17,
     "metadata": {},
     "output_type": "execute_result"
    },
    {
     "data": {
      "image/png": "[encoded data removed]",
      "text/plain": [
       "<Figure size 432x288 with 1 Axes>"
      ]
     },
     "metadata": {
      "needs_background": "light"
     },
     "output_type": "display_data"
    }
   ],
   "source": [
    "#plot the distribution\n",
    "sns.histplot(data=heart_data, x=\"cp\")"
   ]
  },
  {
   "cell_type": "markdown",
   "metadata": {},
   "source": [
    "**Question: What percentage of each chest pain type group are there in the dataset?**"
   ]
  },
  {
   "cell_type": "code",
   "execution_count": 28,
   "metadata": {},
   "outputs": [
    {
     "name": "stdout",
     "output_type": "stream",
     "text": [
      "chest_pain_type\n",
      "no pain             143\n",
      "atypical angina      87\n",
      "typical angina       50\n",
      "non-anginal pain     23\n",
      "asymptotic            0\n",
      "dtype: int64\n"
     ]
    },
    {
     "data": {
      "text/plain": [
       "chest_pain_type\n",
       "no pain             47.194719\n",
       "atypical angina     28.712871\n",
       "typical angina      16.501650\n",
       "non-anginal pain     7.590759\n",
       "asymptotic           0.000000\n",
       "dtype: float64"
      ]
     },
     "execution_count": 28,
     "metadata": {},
     "output_type": "execute_result"
    }
   ],
   "source": [
    "# Bin the Chest Pain Type column\n",
    "cp_bins = [-1, 0, 1, 2, 3, 4]\n",
    "cp_labels = [\"no pain\", \"typical angina\", \"atypical angina\", \"non-anginal pain\", \"asymptotic\"]\n",
    "\n",
    "# cut() returns a Pandas Series containing each of the binned column's values translated into their corresponding bins\n",
    "#this series is appended onto the dataframe\n",
    "heart_data[\"chest_pain_type\"] = pd.cut(heart_data[\"cp\"], cp_bins, labels=cp_labels)\n",
    "\n",
    "#count the number of patients in each group\n",
    "print(heart_data.value_counts('chest_pain_type'))\n",
    "\n",
    "#calculate the percentage of patients in each group\n",
    "cp_percents = (heart_data.value_counts('chest_pain_type') / heart_data['cp'].count()) * 100\n",
    "cp_percents"
   ]
  },
  {
   "cell_type": "code",
   "execution_count": 32,
   "metadata": {},
   "outputs": [
    {
     "data": {
      "image/png": "[encoded data removed]",
      "text/plain": [
       "<Figure size 720x432 with 1 Axes>"
      ]
     },
     "metadata": {},
     "output_type": "display_data"
    }
   ],
   "source": [
    "#plot the chest pain type percentages \n",
    "pie, ax = plt.subplots(figsize=[10,6])\n",
    "labels = cp_percents.keys()\n",
    "plt.pie(x=cp_percents, autopct=\"%.1f%%\", explode=[0.05]*5, labels=labels, pctdistance=0.5)\n",
    "plt.title(\"Percentage of patients with each chest pain type\", fontsize=14);\n",
    "pie.savefig(\"ChestPainType.png\")"
   ]
  },
  {
   "cell_type": "markdown",
   "metadata": {},
   "source": [
    "<u>**Resting Blood Pressure**</u> "
   ]
  },
  {
   "cell_type": "markdown",
   "metadata": {},
   "source": [
    "Resting Blood Pressure displays the resting blood pressure value of an individual in mmHg (unit) on admission to the hospital.\n",
    "\n",
    "**[Some interesting facts about blood pressure readings](https://www.mayoclinic.org/diseases-conditions/high-blood-pressure/in-depth/blood-pressure/art-20050982)**\n",
    "\n",
    "Your total blood pressure reading is determined by measuring your systolic and diastolic blood pressures. \n",
    "\n",
    "Systolic blood pressure, the top number, measures the force your heart exerts on the walls of your arteries each time it beats. \n",
    "\n",
    "Diastolic blood pressure, the bottom number, measures the force your heart exerts on the walls of your arteries in between beats.\n",
    "\n",
    "Blood pressure readings fall into four general categories, ranging from normal to stage 2 high blood pressure (hypertension).\n",
    "\n",
    "| Top number (systolic) in mm HG   | And/or | Bottom number (diastolic) in mm Hg | Category |\n",
    "| --- | --- | --- | --- |              \n",
    "| Below 120     | and     | Below 80      | Normal blood pressure                       |\n",
    "| 120-129       | and     | Below 80      | Elevated blood pressure                     |\n",
    "| 130-139       | or      | 80-89         | Stage 1 high blood pressure (hypertension)  |\n",
    "| 140 or higher | or      | 90 or higher  | Stage 2 high blood pressure (hypertension)  |\n",
    "\n",
    "If you are an adult with a 10 percent or higher risk of developing cardiovascular disease in the next 10 years, or if you have chronic kidney disease, diabetes or coronary artery disease, your treatment goal is less than 130/80 mm Hg. \n",
    "\n",
    "If you're a healthy adult age 65 or older, your treatment goal is also less than 130/80 mm Hg."
   ]
  },
  {
   "cell_type": "code",
   "execution_count": 17,
   "metadata": {},
   "outputs": [
    {
     "data": {
      "text/plain": [
       "array([145, 130, 120, 140, 172, 150, 110, 135, 160, 105, 125, 142, 155,\n",
       "       104, 138, 128, 108, 134, 122, 115, 118, 100, 124,  94, 112, 102,\n",
       "       152, 101, 132, 148, 178, 129, 180, 136, 126, 106, 156, 170, 146,\n",
       "       117, 200, 165, 174, 192, 144, 123, 154, 114, 164], dtype=int64)"
      ]
     },
     "execution_count": 17,
     "metadata": {},
     "output_type": "execute_result"
    }
   ],
   "source": [
    "resting_blood_pressure = heart_data['trestbps'].unique()\n",
    "resting_blood_pressure"
   ]
  },
  {
   "cell_type": "markdown",
   "metadata": {},
   "source": [
    "*These must be systolic (top number) blood pressure values.*"
   ]
  },
  {
   "cell_type": "code",
   "execution_count": 33,
   "metadata": {},
   "outputs": [
    {
     "data": {
      "text/plain": [
       "<AxesSubplot:xlabel='trestbps', ylabel='Count'>"
      ]
     },
     "execution_count": 33,
     "metadata": {},
     "output_type": "execute_result"
    },
    {
     "data": {
      "image/png": "[encoded data removed]",
      "text/plain": [
       "<Figure size 432x288 with 1 Axes>"
      ]
     },
     "metadata": {
      "needs_background": "light"
     },
     "output_type": "display_data"
    }
   ],
   "source": [
    "#plot the distribution\n",
    "sns.histplot(data=heart_data, x=\"trestbps\")"
   ]
  },
  {
   "cell_type": "markdown",
   "metadata": {},
   "source": [
    "**Question: What percentage of each resting blood pressure category are there in the dataset?**"
   ]
  },
  {
   "cell_type": "code",
   "execution_count": 46,
   "metadata": {},
   "outputs": [
    {
     "name": "stdout",
     "output_type": "stream",
     "text": [
      "rbp_category\n",
      "stage 2 high    97\n",
      "elevated        75\n",
      "stage 1 high    71\n",
      "normal          60\n",
      "dtype: int64\n"
     ]
    },
    {
     "data": {
      "text/plain": [
       "rbp_category\n",
       "stage 2 high    32.013201\n",
       "elevated        24.752475\n",
       "stage 1 high    23.432343\n",
       "normal          19.801980\n",
       "dtype: float64"
      ]
     },
     "execution_count": 46,
     "metadata": {},
     "output_type": "execute_result"
    }
   ],
   "source": [
    "# Bin the resting blood pressure column\n",
    "rbp_bins = [0, 119, 129, 139, 300]\n",
    "rbp_labels = [\"normal\", \"elevated\", \"stage 1 high\", \"stage 2 high\"]\n",
    "\n",
    "# cut() returns a Pandas Series containing each of the binned column's values translated into their corresponding bins\n",
    "#this series is appended onto the dataframe\n",
    "heart_data[\"rbp_category\"] = pd.cut(heart_data[\"trestbps\"], rbp_bins, labels=rbp_labels)\n",
    "\n",
    "#count the number of patients in each group\n",
    "print(heart_data.value_counts('rbp_category'))\n",
    "\n",
    "#calculate the percentage of patients in each group\n",
    "rbp_percents = (heart_data.value_counts('rbp_category') / heart_data['trestbps'].count()) * 100\n",
    "rbp_percents"
   ]
  },
  {
   "cell_type": "code",
   "execution_count": 35,
   "metadata": {},
   "outputs": [
    {
     "data": {
      "image/png": "[encoded data removed]",
      "text/plain": [
       "<Figure size 720x432 with 1 Axes>"
      ]
     },
     "metadata": {},
     "output_type": "display_data"
    }
   ],
   "source": [
    "#plot the blood pressure category percentages \n",
    "pie, ax = plt.subplots(figsize=[10,6])\n",
    "labels = rbp_percents.keys()\n",
    "plt.pie(x=rbp_percents, autopct=\"%.1f%%\", explode=[0.05]*4, labels=labels, pctdistance=0.5)\n",
    "plt.title(\"Percentage of patients with each blood pressure category\", fontsize=14);\n",
    "pie.savefig(\"BloodPressureCategory.png\")"
   ]
  },
  {
   "cell_type": "markdown",
   "metadata": {},
   "source": [
    "<u>**Cholestoral**</u>"
   ]
  },
  {
   "cell_type": "markdown",
   "metadata": {},
   "source": [
    "Serum Cholestrol displays the serum cholesterol in mg/dl (unit)\n",
    "\n",
    "**[Some interesting facts about cholestrol](https://www.healthline.com/health/serum-cholesterol#results)**\n",
    "\n",
    "Cholesterol is often associated with heart disease because can build up in your arteries and restrict or block blood flow.\n",
    "\n",
    "Measuring your LDL (“bad” cholesterol), HDL (“good” cholesterol), and triglycerides will give you a number called your total blood cholesterol, or serum cholesterol. \n",
    "\n",
    "Your serum cholesterol levels can help your doctor figure out your risk for developing heart disease in the next 10 years.\n",
    "\n",
    "Lab reports will show serum cholesterol levels in milligrams per deciliter (mg/dL).\n",
    "\n",
    "| [category](https://www.mayoclinic.org/diseases-conditions/high-blood-cholesterol/diagnosis-treatment/drc-20350806) | serum cholestrol level |\n",
    "| --- | --- | \n",
    "| Healthy | less than 200 mg/dL |\n",
    "| Borderline high | 200-239 mg/dL |\n",
    "| High | 240 mg/dL and above |"
   ]
  },
  {
   "cell_type": "code",
   "execution_count": 40,
   "metadata": {},
   "outputs": [
    {
     "data": {
      "text/html": [
       "<div>\n",
       "<style scoped>\n",
       "    .dataframe tbody tr th:only-of-type {\n",
       "        vertical-align: middle;\n",
       "    }\n",
       "\n",
       "    .dataframe tbody tr th {\n",
       "        vertical-align: top;\n",
       "    }\n",
       "\n",
       "    .dataframe thead th {\n",
       "        text-align: right;\n",
       "    }\n",
       "</style>\n",
       "<table border=\"1\" class=\"dataframe\">\n",
       "  <thead>\n",
       "    <tr style=\"text-align: right;\">\n",
       "      <th></th>\n",
       "      <th>age</th>\n",
       "      <th>sex</th>\n",
       "      <th>cp</th>\n",
       "      <th>trestbps</th>\n",
       "      <th>chol</th>\n",
       "      <th>fbs</th>\n",
       "      <th>restecg</th>\n",
       "      <th>thalach</th>\n",
       "      <th>exang</th>\n",
       "      <th>oldpeak</th>\n",
       "      <th>slope</th>\n",
       "      <th>ca</th>\n",
       "      <th>thal</th>\n",
       "      <th>target</th>\n",
       "      <th>age_group</th>\n",
       "      <th>chest_pain_type</th>\n",
       "      <th>rbp_category</th>\n",
       "    </tr>\n",
       "  </thead>\n",
       "  <tbody>\n",
       "    <tr>\n",
       "      <th>0</th>\n",
       "      <td>63</td>\n",
       "      <td>1</td>\n",
       "      <td>3</td>\n",
       "      <td>145</td>\n",
       "      <td>233</td>\n",
       "      <td>1</td>\n",
       "      <td>0</td>\n",
       "      <td>150</td>\n",
       "      <td>0</td>\n",
       "      <td>2.3</td>\n",
       "      <td>0</td>\n",
       "      <td>0</td>\n",
       "      <td>1</td>\n",
       "      <td>1</td>\n",
       "      <td>60s</td>\n",
       "      <td>non-anginal pain</td>\n",
       "      <td>stage 2 high</td>\n",
       "    </tr>\n",
       "    <tr>\n",
       "      <th>1</th>\n",
       "      <td>37</td>\n",
       "      <td>1</td>\n",
       "      <td>2</td>\n",
       "      <td>130</td>\n",
       "      <td>250</td>\n",
       "      <td>0</td>\n",
       "      <td>1</td>\n",
       "      <td>187</td>\n",
       "      <td>0</td>\n",
       "      <td>3.5</td>\n",
       "      <td>0</td>\n",
       "      <td>0</td>\n",
       "      <td>2</td>\n",
       "      <td>1</td>\n",
       "      <td>30s</td>\n",
       "      <td>atypical angina</td>\n",
       "      <td>stage 1 high</td>\n",
       "    </tr>\n",
       "    <tr>\n",
       "      <th>2</th>\n",
       "      <td>41</td>\n",
       "      <td>0</td>\n",
       "      <td>1</td>\n",
       "      <td>130</td>\n",
       "      <td>204</td>\n",
       "      <td>0</td>\n",
       "      <td>0</td>\n",
       "      <td>172</td>\n",
       "      <td>0</td>\n",
       "      <td>1.4</td>\n",
       "      <td>2</td>\n",
       "      <td>0</td>\n",
       "      <td>2</td>\n",
       "      <td>1</td>\n",
       "      <td>40s</td>\n",
       "      <td>typical angina</td>\n",
       "      <td>stage 1 high</td>\n",
       "    </tr>\n",
       "    <tr>\n",
       "      <th>3</th>\n",
       "      <td>56</td>\n",
       "      <td>1</td>\n",
       "      <td>1</td>\n",
       "      <td>120</td>\n",
       "      <td>236</td>\n",
       "      <td>0</td>\n",
       "      <td>1</td>\n",
       "      <td>178</td>\n",
       "      <td>0</td>\n",
       "      <td>0.8</td>\n",
       "      <td>2</td>\n",
       "      <td>0</td>\n",
       "      <td>2</td>\n",
       "      <td>1</td>\n",
       "      <td>50s</td>\n",
       "      <td>typical angina</td>\n",
       "      <td>elevated</td>\n",
       "    </tr>\n",
       "    <tr>\n",
       "      <th>4</th>\n",
       "      <td>57</td>\n",
       "      <td>0</td>\n",
       "      <td>0</td>\n",
       "      <td>120</td>\n",
       "      <td>354</td>\n",
       "      <td>0</td>\n",
       "      <td>1</td>\n",
       "      <td>163</td>\n",
       "      <td>1</td>\n",
       "      <td>0.6</td>\n",
       "      <td>2</td>\n",
       "      <td>0</td>\n",
       "      <td>2</td>\n",
       "      <td>1</td>\n",
       "      <td>50s</td>\n",
       "      <td>no pain</td>\n",
       "      <td>elevated</td>\n",
       "    </tr>\n",
       "  </tbody>\n",
       "</table>\n",
       "</div>"
      ],
      "text/plain": [
       "   age  sex  cp  trestbps  chol  fbs  restecg  thalach  exang  oldpeak  slope  \\\n",
       "0   63    1   3       145   233    1        0      150      0      2.3      0   \n",
       "1   37    1   2       130   250    0        1      187      0      3.5      0   \n",
       "2   41    0   1       130   204    0        0      172      0      1.4      2   \n",
       "3   56    1   1       120   236    0        1      178      0      0.8      2   \n",
       "4   57    0   0       120   354    0        1      163      1      0.6      2   \n",
       "\n",
       "   ca  thal  target age_group   chest_pain_type  rbp_category  \n",
       "0   0     1       1       60s  non-anginal pain  stage 2 high  \n",
       "1   0     2       1       30s   atypical angina  stage 1 high  \n",
       "2   0     2       1       40s    typical angina  stage 1 high  \n",
       "3   0     2       1       50s    typical angina      elevated  \n",
       "4   0     2       1       50s           no pain      elevated  "
      ]
     },
     "execution_count": 40,
     "metadata": {},
     "output_type": "execute_result"
    }
   ],
   "source": [
    "heart_data.head()"
   ]
  },
  {
   "cell_type": "code",
   "execution_count": 37,
   "metadata": {},
   "outputs": [
    {
     "data": {
      "text/plain": [
       "array([233, 250, 204, 236, 354, 192, 294, 263, 199, 168, 239, 275, 266,\n",
       "       211, 283, 219, 340, 226, 247, 234, 243, 302, 212, 175, 417, 197,\n",
       "       198, 177, 273, 213, 304, 232, 269, 360, 308, 245, 208, 264, 321,\n",
       "       325, 235, 257, 216, 256, 231, 141, 252, 201, 222, 260, 182, 303,\n",
       "       265, 309, 186, 203, 183, 220, 209, 258, 227, 261, 221, 205, 240,\n",
       "       318, 298, 564, 277, 214, 248, 255, 207, 223, 288, 160, 394, 315,\n",
       "       246, 244, 270, 195, 196, 254, 126, 313, 262, 215, 193, 271, 268,\n",
       "       267, 210, 295, 306, 178, 242, 180, 228, 149, 278, 253, 342, 157,\n",
       "       286, 229, 284, 224, 206, 167, 230, 335, 276, 353, 225, 330, 290,\n",
       "       172, 305, 188, 282, 185, 326, 274, 164, 307, 249, 341, 407, 217,\n",
       "       174, 281, 289, 322, 299, 300, 293, 184, 409, 259, 200, 327, 237,\n",
       "       218, 319, 166, 311, 169, 187, 176, 241, 131], dtype=int64)"
      ]
     },
     "execution_count": 37,
     "metadata": {},
     "output_type": "execute_result"
    }
   ],
   "source": [
    "cholesterol = heart_data['chol'].unique()\n",
    "cholesterol"
   ]
  },
  {
   "cell_type": "code",
   "execution_count": 38,
   "metadata": {},
   "outputs": [
    {
     "data": {
      "text/plain": [
       "<AxesSubplot:xlabel='chol', ylabel='Count'>"
      ]
     },
     "execution_count": 38,
     "metadata": {},
     "output_type": "execute_result"
    },
    {
     "data": {
      "image/png": "[encoded data removed]",
      "text/plain": [
       "<Figure size 432x288 with 1 Axes>"
      ]
     },
     "metadata": {
      "needs_background": "light"
     },
     "output_type": "display_data"
    }
   ],
   "source": [
    "#plot the distribution\n",
    "sns.histplot(data=heart_data, x=\"chol\")"
   ]
  },
  {
   "cell_type": "markdown",
   "metadata": {},
   "source": [
    "**Question: What percentage of each cholestrol category are there in the dataset?**"
   ]
  },
  {
   "cell_type": "code",
   "execution_count": 42,
   "metadata": {},
   "outputs": [
    {
     "data": {
      "text/plain": [
       "111    126\n",
       "301    131\n",
       "53     141\n",
       "151    149\n",
       "267    149\n",
       "      ... \n",
       "96     394\n",
       "220    407\n",
       "246    409\n",
       "28     417\n",
       "85     564\n",
       "Name: chol, Length: 303, dtype: int64"
      ]
     },
     "execution_count": 42,
     "metadata": {},
     "output_type": "execute_result"
    }
   ],
   "source": [
    "#sort the data to get the range\n",
    "heart_data[\"chol\"].sort_values()"
   ]
  },
  {
   "cell_type": "code",
   "execution_count": 44,
   "metadata": {},
   "outputs": [
    {
     "name": "stdout",
     "output_type": "stream",
     "text": [
      "chol_level\n",
      "high               155\n",
      "borderline high     98\n",
      "healthy             50\n",
      "dtype: int64\n"
     ]
    },
    {
     "data": {
      "text/plain": [
       "chol_level\n",
       "high               51.155116\n",
       "borderline high    32.343234\n",
       "healthy            16.501650\n",
       "dtype: float64"
      ]
     },
     "execution_count": 44,
     "metadata": {},
     "output_type": "execute_result"
    }
   ],
   "source": [
    "# Bin the cholestrol column\n",
    "chol_bins = [0, 199, 239, 600]\n",
    "chol_labels = [\"healthy\", \"borderline high\", \"high\"]\n",
    "\n",
    "# cut() returns a Pandas Series containing each of the binned column's values translated into their corresponding bins\n",
    "#this series is appended onto the dataframe\n",
    "heart_data[\"chol_level\"] = pd.cut(heart_data[\"chol\"], chol_bins, labels=chol_labels)\n",
    "\n",
    "#count the number of patients in each group\n",
    "print(heart_data.value_counts('chol_level'))\n",
    "\n",
    "#calculate the percentage of patients in each group\n",
    "chol_percents = (heart_data.value_counts('chol_level') / heart_data['chol'].count()) * 100\n",
    "chol_percents"
   ]
  },
  {
   "cell_type": "code",
   "execution_count": 45,
   "metadata": {},
   "outputs": [
    {
     "data": {
      "image/png": "[encoded data removed]",
      "text/plain": [
       "<Figure size 720x432 with 1 Axes>"
      ]
     },
     "metadata": {},
     "output_type": "display_data"
    }
   ],
   "source": [
    "#plot the cholesterol category percentages \n",
    "pie, ax = plt.subplots(figsize=[10,6])\n",
    "labels = chol_percents.keys()\n",
    "plt.pie(x=chol_percents, autopct=\"%.1f%%\", explode=[0.05]*3, labels=labels, pctdistance=0.5)\n",
    "plt.title(\"Percentage of patients with each cholestrol level\", fontsize=14);\n",
    "pie.savefig(\"CholestrolLevel.png\")"
   ]
  },
  {
   "cell_type": "markdown",
   "metadata": {},
   "source": [
    "<u>**Fasting Blood Sugar**</u>"
   ]
  },
  {
   "cell_type": "markdown",
   "metadata": {},
   "source": [
    "Fasting Blood Sugar compares the fasting blood sugar value of an individual with 120mg/dl.\n",
    "\n",
    "1 (true) - fasting blood sugar is greater than 120mg/dl\n",
    "\n",
    "0 (false) - fasting blood sugar is less than 120mg/dl\n",
    "\n",
    "**some interesting facts about fasting blood sugar**\n",
    "\n",
    "A normal fasting blood sugar level is 100 or less. \n",
    "\n",
    "Prediabetes is a fasting blood sugar of 101 to 125. \n",
    "\n",
    "A fasting blood sugar of 126 or greater indicates diabetes."
   ]
  },
  {
   "cell_type": "code",
   "execution_count": 48,
   "metadata": {},
   "outputs": [
    {
     "data": {
      "text/plain": [
       "0    258\n",
       "1     45\n",
       "Name: fbs, dtype: int64"
      ]
     },
     "execution_count": 48,
     "metadata": {},
     "output_type": "execute_result"
    }
   ],
   "source": [
    "blood_sugar = heart_data['fbs'].value_counts()\n",
    "blood_sugar"
   ]
  },
  {
   "cell_type": "code",
   "execution_count": 49,
   "metadata": {},
   "outputs": [
    {
     "data": {
      "text/plain": [
       "<AxesSubplot:xlabel='fbs', ylabel='Count'>"
      ]
     },
     "execution_count": 49,
     "metadata": {},
     "output_type": "execute_result"
    },
    {
     "data": {
      "image/png": "[encoded data removed]",
      "text/plain": [
       "<Figure size 432x288 with 1 Axes>"
      ]
     },
     "metadata": {
      "needs_background": "light"
     },
     "output_type": "display_data"
    }
   ],
   "source": [
    "#plot the distribution\n",
    "sns.histplot(data=heart_data, x=\"fbs\")"
   ]
  },
  {
   "cell_type": "markdown",
   "metadata": {},
   "source": [
    "<u>**Resting ECG**</u>"
   ]
  },
  {
   "cell_type": "markdown",
   "metadata": {},
   "source": [
    "Resting ECG displays resting electrocardiographic results\n",
    "\n",
    "0 = normal\n",
    "\n",
    "1 = having ST-T wave abnormality\n",
    "\n",
    "2 = left ventricular hyperthrophy\n",
    "\n",
    "**some interesting facts about ECG results**\n",
    "\n",
    "An electrocardiogram records the electrical signals in your heart. \n",
    "\n",
    "It's a common and painless test used to quickly detect heart problems and monitor your heart's health.\n",
    "\n",
    "[ST-T wave abnormalities](https://www.medhelp.org/posts/Heart-Disease/ST--T-wave-abnormality--consider-anterior-ischemia/show/788679#:~:text=ST%20%26%20T%20wave%20abnormality%2C%20consider%20anterior%20ischemia.,aren%27t%20having%20any%20chest%20pain%20or%20any%20shortness) are nonspecific findings found on an EKG which may represent areas of low blood flow to the heart.\n",
    "\n",
    "[Left ventricular hperthrophy](https://www.reference.com/world-view/causes-non-specific-st-t-wave-abnormalities-89255a4c3e7e27e8) is normally caused by high blood pressure and also the enlargement of the ventricle."
   ]
  },
  {
   "cell_type": "code",
   "execution_count": 57,
   "metadata": {},
   "outputs": [
    {
     "data": {
      "text/plain": [
       "1    152\n",
       "0    147\n",
       "2      4\n",
       "Name: restecg, dtype: int64"
      ]
     },
     "execution_count": 57,
     "metadata": {},
     "output_type": "execute_result"
    }
   ],
   "source": [
    "ecg = heart_data['restecg'].value_counts()\n",
    "ecg"
   ]
  },
  {
   "cell_type": "code",
   "execution_count": 58,
   "metadata": {},
   "outputs": [
    {
     "data": {
      "text/plain": [
       "<AxesSubplot:xlabel='restecg', ylabel='Count'>"
      ]
     },
     "execution_count": 58,
     "metadata": {},
     "output_type": "execute_result"
    },
    {
     "data": {
      "image/png": "[encoded data removed]",
      "text/plain": [
       "<Figure size 432x288 with 1 Axes>"
      ]
     },
     "metadata": {
      "needs_background": "light"
     },
     "output_type": "display_data"
    }
   ],
   "source": [
    "#plot the distribution\n",
    "sns.histplot(data=heart_data, x=\"restecg\")"
   ]
  },
  {
   "cell_type": "code",
   "execution_count": 60,
   "metadata": {},
   "outputs": [
    {
     "data": {
      "text/plain": [
       "restecg\n",
       "1    50.165017\n",
       "0    48.514851\n",
       "2     1.320132\n",
       "dtype: float64"
      ]
     },
     "execution_count": 60,
     "metadata": {},
     "output_type": "execute_result"
    }
   ],
   "source": [
    "#calculate the percentage of patients in each group\n",
    "ecg_percents = (heart_data.value_counts('restecg') / heart_data['restecg'].count()) * 100\n",
    "ecg_percents"
   ]
  },
  {
   "cell_type": "code",
   "execution_count": 61,
   "metadata": {},
   "outputs": [
    {
     "data": {
      "image/png": "[encoded data removed]",
      "text/plain": [
       "<Figure size 720x432 with 1 Axes>"
      ]
     },
     "metadata": {},
     "output_type": "display_data"
    }
   ],
   "source": [
    "#plot the cholesterol category percentages \n",
    "pie, ax = plt.subplots(figsize=[10,6])\n",
    "labels = ecg_percents.keys()\n",
    "plt.pie(x=ecg_percents, autopct=\"%.1f%%\", explode=[0.05]*3, labels=labels, pctdistance=0.5)\n",
    "plt.title(\"Percentage of patients with each resting ECG result\", fontsize=14);\n",
    "pie.savefig(\"RestingECG.png\")"
   ]
  },
  {
   "cell_type": "markdown",
   "metadata": {},
   "source": [
    "<u> **Maximum Heart Rate Achieved** </u>"
   ]
  },
  {
   "cell_type": "markdown",
   "metadata": {},
   "source": [
    "Max heart rate achieved displays the max heart rate achieved by an individual.\n",
    "\n",
    "**some interesting facts about maximum heart rate achieved**\n",
    "\n",
    "[The maximum heart rate is, on average, the highest your pulse can get.](https://www.webmd.com/heart-disease/heart-failure/qa/what-is-your-maximum-heart-rate) \n",
    "\n",
    "To calculate your predicted maximum heart rate, use this formula:\n",
    "\n",
    "220 - Your Age = Predicted Maximum Heart Rate.\n",
    "\n",
    "For example, a 40-year-old's predicted maximum heart rate is about 180 beats per minute.\n",
    "\n",
    "[The increase in cardiovascular risk](https://towardsdatascience.com/heart-disease-prediction-73468d630cfc), associated with the acceleration of heart rate, is comparable to the increase in risk observed with high blood pressure. \n",
    "\n",
    "It has been shown that an increase in heart rate by 10 beats per minute is associated with an increase in the risk of cardiac death by at least 20%, and this increase in the risk is similar to the one observed with an increase in systolic blood pressure by 10 mm Hg."
   ]
  },
  {
   "cell_type": "code",
   "execution_count": 63,
   "metadata": {},
   "outputs": [
    {
     "data": {
      "text/plain": [
       "array([150, 187, 172, 178, 163, 148, 153, 173, 162, 174, 160, 139, 171,\n",
       "       144, 158, 114, 151, 161, 179, 137, 157, 123, 152, 168, 140, 188,\n",
       "       125, 170, 165, 142, 180, 143, 182, 156, 115, 149, 146, 175, 186,\n",
       "       185, 159, 130, 190, 132, 147, 154, 202, 166, 164, 184, 122, 169,\n",
       "       138, 111, 145, 194, 131, 133, 155, 167, 192, 121,  96, 126, 105,\n",
       "       181, 116, 108, 129, 120, 112, 128, 109, 113,  99, 177, 141, 136,\n",
       "        97, 127, 103, 124,  88, 195, 106,  95, 117,  71, 118, 134,  90],\n",
       "      dtype=int64)"
      ]
     },
     "execution_count": 63,
     "metadata": {},
     "output_type": "execute_result"
    }
   ],
   "source": [
    "max_heart_rate = heart_data['thalach'].unique()\n",
    "max_heart_rate"
   ]
  },
  {
   "cell_type": "markdown",
   "metadata": {},
   "source": [
    "For this variable, maximum heart rate is compared with age in order to assign a level to it"
   ]
  },
  {
   "cell_type": "code",
   "execution_count": 83,
   "metadata": {},
   "outputs": [
    {
     "data": {
      "text/plain": [
       "0    63\n",
       "1    37\n",
       "2    41\n",
       "3    56\n",
       "4    57\n",
       "Name: age, dtype: int64"
      ]
     },
     "execution_count": 83,
     "metadata": {},
     "output_type": "execute_result"
    }
   ],
   "source": [
    "heart_data[\"age\"].head()"
   ]
  },
  {
   "cell_type": "code",
   "execution_count": 81,
   "metadata": {},
   "outputs": [
    {
     "data": {
      "text/plain": [
       "0    137\n",
       "1    163\n",
       "2    159\n",
       "3    144\n",
       "4    143\n",
       "Name: age, dtype: int64"
      ]
     },
     "execution_count": 81,
     "metadata": {},
     "output_type": "execute_result"
    }
   ],
   "source": [
    "subtract = 200 - heart_data[\"age\"]\n",
    "subtract.head()"
   ]
  },
  {
   "cell_type": "code",
   "execution_count": 89,
   "metadata": {},
   "outputs": [
    {
     "ename": "ValueError",
     "evalue": "The truth value of a Series is ambiguous. Use a.empty, a.bool(), a.item(), a.any() or a.all().",
     "output_type": "error",
     "traceback": [
      "\u001b[1;31m---------------------------------------------------------------------------\u001b[0m",
      "\u001b[1;31mValueError\u001b[0m                                Traceback (most recent call last)",
      "\u001b[1;32m<ipython-input-89-d805a9f4644c>\u001b[0m in \u001b[0;36m<module>\u001b[1;34m\u001b[0m\n\u001b[0;32m     19\u001b[0m \u001b[1;33m\u001b[0m\u001b[0m\n\u001b[0;32m     20\u001b[0m \u001b[1;32mfor\u001b[0m \u001b[0mvalue\u001b[0m \u001b[1;32min\u001b[0m \u001b[0mheart_data\u001b[0m\u001b[1;33m[\u001b[0m\u001b[1;34m\"thalach\"\u001b[0m\u001b[1;33m]\u001b[0m\u001b[1;33m:\u001b[0m\u001b[1;33m\u001b[0m\u001b[1;33m\u001b[0m\u001b[0m\n\u001b[1;32m---> 21\u001b[1;33m     \u001b[1;32mif\u001b[0m \u001b[0mvalue\u001b[0m \u001b[1;33m>\u001b[0m \u001b[0mheart_data\u001b[0m\u001b[1;33m[\u001b[0m\u001b[1;34m\"normal_max_rate\"\u001b[0m\u001b[1;33m]\u001b[0m\u001b[1;33m:\u001b[0m\u001b[1;33m\u001b[0m\u001b[1;33m\u001b[0m\u001b[0m\n\u001b[0m\u001b[0;32m     22\u001b[0m         \u001b[0mmax_rate_category\u001b[0m\u001b[1;33m.\u001b[0m\u001b[0mappend\u001b[0m\u001b[1;33m(\u001b[0m\u001b[1;34m\"high\"\u001b[0m\u001b[1;33m)\u001b[0m\u001b[1;33m\u001b[0m\u001b[1;33m\u001b[0m\u001b[0m\n\u001b[0;32m     23\u001b[0m     \u001b[1;32melse\u001b[0m\u001b[1;33m:\u001b[0m\u001b[1;33m\u001b[0m\u001b[1;33m\u001b[0m\u001b[0m\n",
      "\u001b[1;32mc:\\users\\abiel\\appdata\\local\\programs\\python\\python37\\lib\\site-packages\\pandas\\core\\generic.py\u001b[0m in \u001b[0;36m__nonzero__\u001b[1;34m(self)\u001b[0m\n\u001b[0;32m   1325\u001b[0m     \u001b[1;32mdef\u001b[0m \u001b[0m__nonzero__\u001b[0m\u001b[1;33m(\u001b[0m\u001b[0mself\u001b[0m\u001b[1;33m)\u001b[0m\u001b[1;33m:\u001b[0m\u001b[1;33m\u001b[0m\u001b[1;33m\u001b[0m\u001b[0m\n\u001b[0;32m   1326\u001b[0m         raise ValueError(\n\u001b[1;32m-> 1327\u001b[1;33m             \u001b[1;34mf\"The truth value of a {type(self).__name__} is ambiguous. \"\u001b[0m\u001b[1;33m\u001b[0m\u001b[1;33m\u001b[0m\u001b[0m\n\u001b[0m\u001b[0;32m   1328\u001b[0m             \u001b[1;34m\"Use a.empty, a.bool(), a.item(), a.any() or a.all().\"\u001b[0m\u001b[1;33m\u001b[0m\u001b[1;33m\u001b[0m\u001b[0m\n\u001b[0;32m   1329\u001b[0m         )\n",
      "\u001b[1;31mValueError\u001b[0m: The truth value of a Series is ambiguous. Use a.empty, a.bool(), a.item(), a.any() or a.all()."
     ]
    }
   ],
   "source": [
    "heart_data.head()\n",
    "max_category = heart_data[['age', 'thalach']]\n",
    "\n",
    "#I want a for loop to iterate over the data and:\n",
    " #   1. calculate 200 - age\n",
    "  #  2. if that max heart rate is more than that number\n",
    "   # 3. append 'high' for that patient\n",
    "    #4. if the max heart rate is less than or equal to that number\n",
    "    #5. append 'target' for that patient\n",
    "\n",
    "normal_max_rate = []\n",
    "\n",
    "for value in heart_data[\"age\"]:\n",
    "    normal_max_rate.append(200 - value)\n",
    "\n",
    "heart_data['normal_max_rate'] = normal_max_rate\n",
    "\n",
    "max_rate_category = []\n",
    "\n",
    "for value in heart_data[\"thalach\"]:\n",
    "    if value > heart_data[\"normal_max_rate\"]:\n",
    "        max_rate_category.append(\"high\")\n",
    "    else:\n",
    "        max_rate_category.append(\"target\")\n",
    "\n",
    "heart_data.head()"
   ]
  },
  {
   "cell_type": "markdown",
   "metadata": {},
   "source": [
    "Key questions to answer\n",
    "1. How many data points do I have? Enough for ML? Enough of the classes I’m trying to predict?\n",
    "2. What are the columns? Column ranges?\n",
    "3 What will my normalization strategy be? Do I have outliers? Are things in ranges that I expect?\n",
    "4. What are the datatypes, and will they behave like I expect?\n",
    "5. Are any numbers stored as strings? Will I have to clean them to get them to be numbers?\n",
    "6. Do I have any missing values?  Any duplications? How many? Why?\n",
    "7. Are features correlated?\n",
    "8. In expected, gut-check ways, in novel ways, but also in data leakage ways: Do I have any weird distributions?\n",
    "   (Huge skews, bimodal, uniform…)"
   ]
  },
  {
   "cell_type": "code",
   "execution_count": null,
   "metadata": {},
   "outputs": [],
   "source": [
    "#Do any of the columns include similar data - but scaled quite differently? (ex: ft vs. mile for length)"
   ]
  }
 ],
 "metadata": {
  "kernelspec": {
   "display_name": "Python 3",
   "language": "python",
   "name": "python3"
  },
  "language_info": {
   "codemirror_mode": {
    "name": "ipython",
    "version": 3
   },
   "file_extension": ".py",
   "mimetype": "text/x-python",
   "name": "python",
   "nbconvert_exporter": "python",
   "pygments_lexer": "ipython3",
   "version": "3.7.8"
  }
 },
 "nbformat": 4,
 "nbformat_minor": 4
}
